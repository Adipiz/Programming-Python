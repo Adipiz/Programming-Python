{
 "cells": [
  {
   "cell_type": "markdown",
   "id": "37e03161",
   "metadata": {},
   "source": [
    "# Introducción a Python \n",
    "\n",
    "**Python is an interpreted, high-level, general-purpose programming language.\n",
    "Created by Guido van Rossum and first released in 1991.**\n",
    "\n"
   ]
  },
  {
   "cell_type": "code",
   "execution_count": 1,
   "id": "ca53e674",
   "metadata": {},
   "outputs": [
    {
     "name": "stdout",
     "output_type": "stream",
     "text": [
      "Hello World!\n"
     ]
    }
   ],
   "source": [
    "# Cómo escribir una sentencia\n",
    "print(\"Hello World!\")"
   ]
  },
  {
   "cell_type": "markdown",
   "id": "ca6a7c75",
   "metadata": {},
   "source": [
    "### Asignación de variables\n",
    "\n",
    "- A variable name must start with a letter or the underscore character\n",
    "- A variable name cannot start with a number\n",
    "- A variable name can only contain alpha-numeric characters (A-z, 0-9) and\n",
    "  underscores\n",
    "- Variable names are case-sensitive, e.g., amount, Amount and AMOUNT\n",
    "  are three diferent variables."
   ]
  },
  {
   "cell_type": "code",
   "execution_count": 2,
   "id": "6bf1388b",
   "metadata": {},
   "outputs": [],
   "source": [
    "# Asignación de variables (use signo '=')\n",
    "x = 3 \n",
    "y = 3*x"
   ]
  },
  {
   "cell_type": "code",
   "execution_count": 3,
   "id": "3a940210",
   "metadata": {},
   "outputs": [
    {
     "name": "stdout",
     "output_type": "stream",
     "text": [
      "9\n"
     ]
    }
   ],
   "source": [
    "# Imprimiendo variables\n",
    "print(y)"
   ]
  },
  {
   "cell_type": "markdown",
   "id": "388113f9",
   "metadata": {},
   "source": [
    "Podemos implementar la fórmula $y = ax + b$ "
   ]
  },
  {
   "cell_type": "code",
   "execution_count": 4,
   "id": "4b5efd1f",
   "metadata": {},
   "outputs": [],
   "source": [
    "# asignamos a cada variable un valor numérico\n",
    "a = 2\n",
    "b = 5\n",
    "x = 3\n",
    "\n",
    "# Note que se utilizará el operador '*'\n",
    "y = a*x + b "
   ]
  },
  {
   "cell_type": "code",
   "execution_count": 5,
   "id": "093dbc65",
   "metadata": {},
   "outputs": [
    {
     "name": "stdout",
     "output_type": "stream",
     "text": [
      "11\n"
     ]
    }
   ],
   "source": [
    "# Imprimiendo resultado con el comando 'print'\n",
    "print(y)"
   ]
  },
  {
   "cell_type": "markdown",
   "id": "03cc91da",
   "metadata": {},
   "source": [
    "### Numbers\n",
    "\n",
    "Hay tres tipos numéricos en Python:\n",
    " - int:  *x = 1*\n",
    " - float:    *y = 2.8*\n",
    " - complex:  *z = 3 + 2j*"
   ]
  },
  {
   "cell_type": "code",
   "execution_count": 8,
   "id": "51e973c2",
   "metadata": {},
   "outputs": [
    {
     "name": "stdout",
     "output_type": "stream",
     "text": [
      "<class 'int'>\n",
      "<class 'float'>\n",
      "<class 'complex'>\n"
     ]
    }
   ],
   "source": [
    "x = 1\n",
    "y = 2.8\n",
    "z = 3 + 2j\n",
    "\n",
    "print(type(x))\n",
    "print(type(y))\n",
    "print(type(z))"
   ]
  },
  {
   "cell_type": "markdown",
   "id": "f941fd1c",
   "metadata": {},
   "source": [
    "### Strings\n",
    "\n",
    "- Strings in Python are surrounded by either single quotation marks, or double\n",
    "  quotation marks. 'Hello' is the same as \"Hello\".\n",
    "- Strings in Python are arrays of bytes, and we can use index to get a specific\n",
    "  character within the string as shown in the example code"
   ]
  },
  {
   "cell_type": "code",
   "execution_count": 14,
   "id": "8bb142bb",
   "metadata": {},
   "outputs": [
    {
     "name": "stdout",
     "output_type": "stream",
     "text": [
      "Hello World!\n",
      "e\n",
      "llo\n",
      "12\n",
      "hello world!\n",
      "HELLO WORLD!\n",
      "Jello World!\n",
      "['Hello', 'World!']\n"
     ]
    }
   ],
   "source": [
    "# Ejemplos de manipulación de strings en python\n",
    "\n",
    "a = 'Hello World!'\n",
    "print(a)\n",
    "\n",
    "print(a[1])\n",
    "print(a[2:5])\n",
    "print(len(a))\n",
    "print(a.lower())\n",
    "print(a.upper())\n",
    "print(a.replace(\"H\",\"J\"))\n",
    "print(a.split(\" \"))"
   ]
  },
  {
   "cell_type": "markdown",
   "id": "250d505f",
   "metadata": {},
   "source": [
    "#### String Input"
   ]
  },
  {
   "cell_type": "code",
   "execution_count": 17,
   "id": "a6eedaad",
   "metadata": {},
   "outputs": [
    {
     "name": "stdout",
     "output_type": "stream",
     "text": [
      "Enter your name:\n",
      "Alonso\n",
      "¡Hello! Alonso\n"
     ]
    }
   ],
   "source": [
    "print(\"Enter your name:\")\n",
    "x = input()\n",
    "print('¡Hello! '+x)"
   ]
  },
  {
   "cell_type": "markdown",
   "id": "a74bd804",
   "metadata": {},
   "source": [
    "### Functions"
   ]
  },
  {
   "cell_type": "code",
   "execution_count": 18,
   "id": "4664ba16",
   "metadata": {},
   "outputs": [
    {
     "name": "stdout",
     "output_type": "stream",
     "text": [
      "0.0015926529164868282\n"
     ]
    }
   ],
   "source": [
    "# Funciones que derivan de librerías\n",
    "\n",
    "from math import sin\n",
    "x = 3.14 \n",
    "y = sin(x)\n",
    "\n",
    "print(y)"
   ]
  },
  {
   "cell_type": "code",
   "execution_count": 19,
   "id": "a25ba32e",
   "metadata": {},
   "outputs": [
    {
     "name": "stdout",
     "output_type": "stream",
     "text": [
      "0.0015926529164868282\n",
      "-0.9999987317275395\n"
     ]
    }
   ],
   "source": [
    "# Si se necesitan más funciones \n",
    "\n",
    "from math import sin, cos\n",
    "x = 3.14\n",
    "y = sin(x)\n",
    "print(y)\n",
    "\n",
    "y = cos(x)\n",
    "print(y)"
   ]
  },
  {
   "cell_type": "code",
   "execution_count": 20,
   "id": "c57fbfc1",
   "metadata": {},
   "outputs": [
    {
     "name": "stdout",
     "output_type": "stream",
     "text": [
      "0.0015926529164868282\n",
      "-0.9999987317275395\n"
     ]
    }
   ],
   "source": [
    "# Si se necesitan demasiadas funciones\n",
    "\n",
    "from math import *\n",
    "x = 3.14\n",
    "y = sin(x)\n",
    "print(y)\n",
    "\n",
    "y = cos(x)\n",
    "print(y)"
   ]
  },
  {
   "cell_type": "code",
   "execution_count": 22,
   "id": "802dd00f",
   "metadata": {},
   "outputs": [
    {
     "name": "stdout",
     "output_type": "stream",
     "text": [
      "0.0015926529164868282\n",
      "-0.9999987317275395\n"
     ]
    }
   ],
   "source": [
    "# Si se necesitan demasiadas funciones\n",
    "\n",
    "import math\n",
    "x = 3.14\n",
    "y = sin(x)\n",
    "print(y)\n",
    "\n",
    "y = cos(x)\n",
    "print(y)"
   ]
  },
  {
   "cell_type": "code",
   "execution_count": 24,
   "id": "efc9a128",
   "metadata": {},
   "outputs": [
    {
     "name": "stdout",
     "output_type": "stream",
     "text": [
      "0.0015926529164868282\n"
     ]
    }
   ],
   "source": [
    "# Una alternativa\n",
    "\n",
    "import math as mt\n",
    "\n",
    "x = 3.14\n",
    "y = mt.sin(x)\n",
    "\n",
    "print(y)"
   ]
  },
  {
   "cell_type": "markdown",
   "id": "31e214f6",
   "metadata": {},
   "source": [
    "*There are advantages and disadvantages with the different approaches. In your\n",
    "program you may need to use functions from many different modules or packages. If you import the whole module instead of just the function(s) you need\n",
    "you use more of the computer memory.*"
   ]
  },
  {
   "cell_type": "markdown",
   "id": "a5677193",
   "metadata": {},
   "source": [
    "### Using Python Libraries, Packages and Modules.\n",
    "\n",
    "Some important packages are:\n",
    "- **NumPy**: NumPy is the fundamental package for scientific computing with Python\n",
    "- **SciPy**: SciPy is a free and open-source Python library used for scientific\n",
    "  computing and technical computing. SciPy contains modules for optimization, linear algebra, integration, interpolation, special   functions, FFT, signal and image processing, ODE solvers and other tasks common in science\n",
    "  and engineering.\n",
    "- **Matplotlib**: Matplotlib is a Python 2D plotting library."
   ]
  },
  {
   "cell_type": "code",
   "execution_count": 25,
   "id": "aa448cac",
   "metadata": {},
   "outputs": [
    {
     "name": "stdout",
     "output_type": "stream",
     "text": [
      "0.1411200080598672\n"
     ]
    }
   ],
   "source": [
    "# Usando librerías\n",
    "import numpy as np\n",
    "\n",
    "x = 3\n",
    "y = np.sin(x)\n",
    "\n",
    "print(y)"
   ]
  },
  {
   "cell_type": "code",
   "execution_count": 26,
   "id": "a7ae9aa0",
   "metadata": {},
   "outputs": [
    {
     "name": "stdout",
     "output_type": "stream",
     "text": [
      "0.1411200080598672\n",
      "0.1411200080598672\n"
     ]
    }
   ],
   "source": [
    "# Usando librería Standar de Python y Numpy\n",
    "\n",
    "import math as mt\n",
    "import numpy as np\n",
    "\n",
    "x = 3\n",
    "y = mt.sin(x)\n",
    "print(y)\n",
    "\n",
    "y = np.sin(x)\n",
    "print(y)"
   ]
  },
  {
   "cell_type": "markdown",
   "id": "baab8530",
   "metadata": {},
   "source": [
    "### Gráficas en Python\n",
    "\n",
    "Usando Matplotlib, funciones populares:\n",
    " - plot()\n",
    " - title()\n",
    " - xlabel()\n",
    " - ylabel()\n",
    " - axis()\n",
    " - grid()\n",
    " - subplot()\n",
    " - legend()\n",
    " - show()\n",
    "\n",
    "\n"
   ]
  },
  {
   "cell_type": "code",
   "execution_count": 30,
   "id": "62bb6476",
   "metadata": {},
   "outputs": [
    {
     "data": {
      "image/png": "[encoded data removed]",
      "text/plain": [
       "<Figure size 432x288 with 1 Axes>"
      ]
     },
     "metadata": {
      "needs_background": "light"
     },
     "output_type": "display_data"
    }
   ],
   "source": [
    "import matplotlib.pyplot as plt\n",
    "\n",
    "x = [1,2,3,4,5,6,7,8,9,10]\n",
    "y = [5,2,4,4,8,7,4,8,10,9]\n",
    "\n",
    "plt.plot(x,y)\n",
    "plt.xlabel('Time (s)')\n",
    "plt.ylabel('Temperature (degC)')\n",
    "plt.show()"
   ]
  },
  {
   "cell_type": "code",
   "execution_count": 31,
   "id": "29534af4",
   "metadata": {},
   "outputs": [
    {
     "data": {
      "image/png": "[encoded data removed]",
      "text/plain": [
       "<Figure size 432x288 with 1 Axes>"
      ]
     },
     "metadata": {
      "needs_background": "light"
     },
     "output_type": "display_data"
    }
   ],
   "source": [
    "from matplotlib.pyplot import *\n",
    "\n",
    "x = [1,2,3,4,5,6,7,8,9,10]\n",
    "y = [5,2,4,4,8,7,4,8,10,9]\n",
    "\n",
    "plot(x,y)\n",
    "xlabel('Time (s)')\n",
    "ylabel('Temperature (degC)')\n",
    "show()"
   ]
  },
  {
   "cell_type": "code",
   "execution_count": 32,
   "id": "aee0154f",
   "metadata": {},
   "outputs": [
    {
     "data": {
      "image/png": "[encoded data removed]",
      "text/plain": [
       "<Figure size 432x288 with 1 Axes>"
      ]
     },
     "metadata": {
      "needs_background": "light"
     },
     "output_type": "display_data"
    }
   ],
   "source": [
    "import numpy as np\n",
    "import matplotlib.pyplot as plt\n",
    "\n",
    "x = [1,2,3,4,5,6,7]\n",
    "y = np.sin(x)\n",
    "\n",
    "plt.plot(x,y)\n",
    "plt.xlabel('x')\n",
    "plt.ylabel('y')\n",
    "plt.show()"
   ]
  },
  {
   "cell_type": "code",
   "execution_count": 34,
   "id": "d26d484b",
   "metadata": {},
   "outputs": [
    {
     "data": {
      "image/png": "[encoded data removed]",
      "text/plain": [
       "<Figure size 432x288 with 1 Axes>"
      ]
     },
     "metadata": {
      "needs_background": "light"
     },
     "output_type": "display_data"
    }
   ],
   "source": [
    "import numpy as np\n",
    "import matplotlib.pyplot as plt\n",
    "\n",
    "xstart = 0\n",
    "xstop = 2*np.pi\n",
    "increment = 0.1\n",
    "\n",
    "x = np.arange(xstart, xstop, increment)\n",
    "y = np.sin(x)\n",
    "\n",
    "plt.plot(x,y)\n",
    "plt.xlabel('x')\n",
    "plt.ylabel('y')\n",
    "plt.show()\n",
    "\n"
   ]
  },
  {
   "cell_type": "markdown",
   "id": "26e76b22",
   "metadata": {},
   "source": [
    "### Sub-gráficas\n",
    "\n",
    "The subplot command enables you to display multiple plots in the same window.\n",
    "Typing \"subplot(m,n,p)\" partitions the figure window into an m-by-n matrix\n",
    "of small subplots and selects the subplot for the current plot. The plots are\n",
    "numbered along the first row of the figure window, then the second row, and so\n",
    "on."
   ]
  },
  {
   "cell_type": "code",
   "execution_count": 4,
   "id": "d4fcfb59",
   "metadata": {},
   "outputs": [
    {
     "data": {
      "image/png": "[encoded data removed]",
      "text/plain": [
       "<Figure size 432x288 with 2 Axes>"
      ]
     },
     "metadata": {
      "needs_background": "light"
     },
     "output_type": "display_data"
    }
   ],
   "source": [
    "import matplotlib.pyplot as plt\n",
    "import numpy as np\n",
    "\n",
    "xstart = 0\n",
    "xstop = 2*np.pi\n",
    "increment = 0.1\n",
    "\n",
    "x = np.arange(xstart, xstop, increment)\n",
    "y = np.sin(x)\n",
    "z = np.cos(x)\n",
    "\n",
    "plt.subplot(2,1,1)\n",
    "plt.plot(x,y, 'g')\n",
    "plt.title('sin')\n",
    "plt.xlabel('x')\n",
    "plt.ylabel('sin(x)')\n",
    "plt.grid()\n",
    "plt.show\n",
    "\n",
    "\n",
    "plt.subplot(2,1,2)\n",
    "plt.plot(x,z,'r')\n",
    "plt.title('cos')\n",
    "plt.xlabel('x')\n",
    "plt.ylabel('cos(x)')\n",
    "plt.grid()\n",
    "plt.show()\n",
    "\n"
   ]
  },
  {
   "cell_type": "markdown",
   "id": "92552565",
   "metadata": {},
   "source": [
    "## LOOPS\n",
    "\n",
    "You may come far only using these thins, but to create real applications, you\n",
    "need to know about and use features like:\n",
    " - If ... Else\n",
    " - For Loops\n",
    " - While Loops\n",
    " - Arrays .."
   ]
  },
  {
   "cell_type": "code",
   "execution_count": 8,
   "id": "837740c4",
   "metadata": {},
   "outputs": [
    {
     "name": "stdout",
     "output_type": "stream",
     "text": [
      "b and a are equal or b is greater than a\n"
     ]
    }
   ],
   "source": [
    "# Example: If else\n",
    "\n",
    "a = 5\n",
    "b = 8 \n",
    "\n",
    "if a > b :\n",
    "    print(\"a is greater than b\")\n",
    "else: \n",
    "    print(\"b and a are equal or b is greater than a\")"
   ]
  },
  {
   "cell_type": "code",
   "execution_count": 9,
   "id": "16526edc",
   "metadata": {},
   "outputs": [
    {
     "name": "stdout",
     "output_type": "stream",
     "text": [
      "b is greater than a\n"
     ]
    }
   ],
   "source": [
    "# Example: elif \n",
    "\n",
    "a = 5\n",
    "b = 8\n",
    "\n",
    "if a > b:\n",
    "    print(\"a is greater than b\")\n",
    "elif a == b:\n",
    "    print(\"a and b are equal\")\n",
    "elif a < b:\n",
    "    print(\"b is greater than a\")\n"
   ]
  },
  {
   "cell_type": "markdown",
   "id": "e6c906a1",
   "metadata": {},
   "source": [
    "### Arrays\n",
    "An array is a special variable, which can hold more than one value at a time."
   ]
  },
  {
   "cell_type": "code",
   "execution_count": 17,
   "id": "7feb3fdd",
   "metadata": {},
   "outputs": [
    {
     "name": "stdout",
     "output_type": "stream",
     "text": [
      "4\n",
      "5.5\n",
      "7.3\n",
      "1.6\n",
      "3.4\n",
      "7.3\n",
      "9.4\n",
      "5\n",
      "1.6\n",
      "3.4\n",
      "7.3\n",
      "9.4\n",
      "11.4\n"
     ]
    }
   ],
   "source": [
    "# Example using For Loops in python\n",
    "data = [1.6, 3.4, 5.5, 9.4]\n",
    "\n",
    "N = len(data)\n",
    "print(N)\n",
    "print(data[2])\n",
    "\n",
    "data[2] = 7.3\n",
    "print(data[2])\n",
    "\n",
    "# For loop\n",
    "for x in data:\n",
    "    print(x)\n",
    "    \n",
    "# append function\n",
    "data.append(11.4)\n",
    "    \n",
    "N = len(data)\n",
    "print(N)\n",
    "\n",
    "# for loop to new element in data\n",
    "for x in data:\n",
    "    print(x)      "
   ]
  },
  {
   "cell_type": "code",
   "execution_count": 59,
   "id": "0add1269",
   "metadata": {},
   "outputs": [
    {
     "name": "stdout",
     "output_type": "stream",
     "text": [
      "Ford\n",
      "['Volvo', 'Tesla', 'Ford', 'Chevrolet']\n",
      "[0, 1.6, 3.4, 5.5, 9.4]\n",
      "[0, 1.6, 3.4, 5.5, 9.4]\n",
      "[0, 1.6, 3.4, 5.5, 9.4]\n",
      "[]\n",
      "1\n",
      "['Volvo', 'Tesla', 'Toyota', 'Ford', 'Chevrolet']\n",
      "['Volvo', 'Tesla', 'Ford', 'Chevrolet']\n",
      "[0, 1.6, 3.4, 9.4]\n"
     ]
    }
   ],
   "source": [
    "# Alternatively, we can define an array in different ways\n",
    "\n",
    "# Numbers\n",
    "data = [1.6, 3.4, 5.5, 9.4]\n",
    "\n",
    "# text\n",
    "carlist = ['Volvo', 'Tesla', 'Ford']\n",
    "\n",
    "# index handling\n",
    "index = 2\n",
    "x = carlist[index]\n",
    "print(x)\n",
    "\n",
    "# append() function\n",
    "carlist.append('Chevrolet')\n",
    "print(carlist)\n",
    "\n",
    "# others functions : sort(), clear(), copy(), count(), insert(), remove()\n",
    "\n",
    "data.append(0) # Sorting method\n",
    "data.sort()\n",
    "print(data)\n",
    "\n",
    "dataCopy = data.copy()  # Copy method\n",
    "print(dataCopy)\n",
    "\n",
    "dataCopy.clear()    # Removing all elements from arrays\n",
    "print(data)\n",
    "print(dataCopy)\n",
    "\n",
    "print(data.count(0)) # we must to assign an argument at the count function (either an string, numeric or other value for instance)\n",
    "\n",
    "carlist.insert(2,'Toyota') # list_name.insert(index, element)\n",
    "print(carlist)\n",
    "\n",
    "carlist.remove('Toyota') # The remove() method removes the first matching element (which is passed as an argument) from the list.\n",
    "print(carlist)\n",
    "\n",
    "\n",
    "data.remove(5.5)\n",
    "print(data)"
   ]
  },
  {
   "cell_type": "markdown",
   "id": "16605160",
   "metadata": {},
   "source": [
    "## For Loops\n",
    "\n",
    "A For loop is used for iterating over a sequence. I guess all your programs will\n",
    "use one or more For loops. So if you have not used For loops before, make sure\n",
    "to learn it now."
   ]
  },
  {
   "cell_type": "code",
   "execution_count": 65,
   "id": "e901e744",
   "metadata": {},
   "outputs": [
    {
     "name": "stdout",
     "output_type": "stream",
     "text": [
      "1.6\n",
      "3.4\n",
      "5.5\n",
      "9.4\n",
      "Volvo\n",
      "Tesla\n",
      "Ford\n",
      "0\n",
      "1\n",
      "2\n",
      "3\n",
      "4\n",
      "5\n",
      "6\n",
      "7\n",
      "8\n",
      "9\n"
     ]
    }
   ],
   "source": [
    "# Example\n",
    "\n",
    "data = [1.6, 3.4, 5.5, 9.4]\n",
    "\n",
    "for x in data:\n",
    "    print(x)\n",
    "    \n",
    "\n",
    "carlist = ['Volvo',\"Tesla\", \"Ford\"]\n",
    "\n",
    "for car in carlist:\n",
    "    print(car)\n",
    "    \n",
    "# range function\n",
    "N = 10\n",
    "for number in range(N):\n",
    "    print(number)"
   ]
  },
  {
   "cell_type": "code",
   "execution_count": 67,
   "id": "09af342e",
   "metadata": {},
   "outputs": [
    {
     "name": "stdout",
     "output_type": "stream",
     "text": [
      "4\n",
      "5\n",
      "6\n",
      "7\n",
      "8\n",
      "9\n",
      "10\n",
      "11\n",
      "4\n",
      "6\n",
      "8\n",
      "10\n"
     ]
    }
   ],
   "source": [
    "# Alternatively\n",
    "\n",
    "start = 4\n",
    "end = 12 # number not included\n",
    "\n",
    "for x in range(start,end):\n",
    "    print(x)\n",
    "    \n",
    "step = 2\n",
    "\n",
    "for x in range(start, end, step):\n",
    "    print(x)\n",
    "    "
   ]
  },
  {
   "cell_type": "code",
   "execution_count": 69,
   "id": "8fbd1cf1",
   "metadata": {},
   "outputs": [
    {
     "name": "stdout",
     "output_type": "stream",
     "text": [
      "30\n",
      "5.0\n"
     ]
    }
   ],
   "source": [
    "# For loop and sum of a given data set\n",
    "\n",
    "data = [1,5,6,3,12,3]\n",
    "\n",
    "# find sum of all  the numbers\n",
    "sum = 0\n",
    "\n",
    "for x in data:\n",
    "    sum = sum + x\n",
    "print(sum)\n",
    "\n",
    "# find de Mean or average of all the numbers\n",
    "N=len(data)\n",
    "mean = sum/N\n",
    "\n",
    "print(mean)"
   ]
  },
  {
   "cell_type": "code",
   "execution_count": 75,
   "id": "570cac62",
   "metadata": {},
   "outputs": [
    {
     "name": "stdout",
     "output_type": "stream",
     "text": [
      "1\n",
      "2\n",
      "3\n",
      "5\n",
      "8\n",
      "13\n",
      "21\n",
      "34\n"
     ]
    }
   ],
   "source": [
    "# Example n first fibonacci \n",
    "\n",
    "N = 10\n",
    "\n",
    "f_1 = 0\n",
    "f_2 = 1\n",
    "\n",
    "for k in range(N-2):\n",
    "    f_i = f_1 + f_2\n",
    "    f_1 = f_2\n",
    "    f_2 = f_i\n",
    "    print(f_i)"
   ]
  },
  {
   "cell_type": "code",
   "execution_count": 78,
   "id": "6fe61183",
   "metadata": {},
   "outputs": [
    {
     "name": "stdout",
     "output_type": "stream",
     "text": [
      "[0, 1, 1]\n",
      "[0, 1, 1, 2]\n",
      "[0, 1, 1, 2, 3]\n",
      "[0, 1, 1, 2, 3, 5]\n",
      "[0, 1, 1, 2, 3, 5, 8]\n",
      "[0, 1, 1, 2, 3, 5, 8, 13]\n",
      "[0, 1, 1, 2, 3, 5, 8, 13, 21]\n",
      "[0, 1, 1, 2, 3, 5, 8, 13, 21, 34]\n"
     ]
    }
   ],
   "source": [
    "# Alternative\n",
    "N = 10\n",
    "f = [0,1]\n",
    "\n",
    "for  k in range(N-2):\n",
    "    f_i = f[k+1] + f[k]\n",
    "    f.append(f_i)\n",
    "    \n",
    "    print(f)"
   ]
  },
  {
   "cell_type": "code",
   "execution_count": 274,
   "id": "99a2a7f5",
   "metadata": {},
   "outputs": [
    {
     "name": "stdout",
     "output_type": "stream",
     "text": [
      "1 1\n",
      "1 2\n",
      "1 3\n",
      "1 4\n",
      "1 5\n",
      "1 6\n",
      "1 7\n",
      "1 8\n",
      "1 9\n",
      "2 1\n",
      "2 2\n",
      "2 3\n",
      "2 4\n",
      "2 5\n",
      "2 6\n",
      "2 7\n",
      "2 8\n",
      "2 9\n",
      "3 1\n",
      "3 2\n",
      "3 3\n",
      "3 4\n",
      "3 5\n",
      "3 6\n",
      "3 7\n",
      "3 8\n",
      "3 9\n",
      "4 1\n",
      "4 2\n",
      "4 3\n",
      "4 4\n",
      "4 5\n",
      "4 6\n",
      "4 7\n",
      "4 8\n",
      "4 9\n",
      "5 1\n",
      "5 2\n",
      "5 3\n",
      "5 4\n",
      "5 5\n",
      "5 6\n",
      "5 7\n",
      "5 8\n",
      "5 9\n",
      "6 1\n",
      "6 2\n",
      "6 3\n",
      "6 4\n",
      "6 5\n",
      "6 6\n",
      "6 7\n",
      "6 8\n",
      "6 9\n",
      "7 1\n",
      "7 2\n",
      "7 3\n",
      "7 4\n",
      "7 5\n",
      "7 6\n",
      "7 7\n",
      "7 8\n",
      "7 9\n",
      "8 1\n",
      "8 2\n",
      "8 3\n",
      "8 4\n",
      "8 5\n",
      "8 6\n",
      "8 7\n",
      "8 8\n",
      "8 9\n",
      "9 1\n",
      "9 2\n",
      "9 3\n",
      "9 4\n",
      "9 5\n",
      "9 6\n",
      "9 7\n",
      "9 8\n",
      "9 9\n"
     ]
    }
   ],
   "source": [
    "# Nested For loop\n",
    "\n",
    "for i in range(1,10):\n",
    "    for k in range(1,10):\n",
    "        print(i,k)       "
   ]
  },
  {
   "cell_type": "code",
   "execution_count": 266,
   "id": "a5be419d",
   "metadata": {
    "scrolled": false
   },
   "outputs": [
    {
     "name": "stdout",
     "output_type": "stream",
     "text": [
      "[2, 3, 5, 7, 11, 13, 17, 19, 23, 29, 31, 37, 41, 43, 47, 53, 59, 61, 67, 71, 73, 79, 83, 89, 97, 101, 103, 107, 109, 113, 127, 131, 137, 139, 149, 151, 157, 163, 167, 173, 179, 181, 191, 193, 197, 199]\n"
     ]
    }
   ],
   "source": [
    "# Prime number \n",
    " # A natural number (1, 2, 3, 4, 5, 6, etc.) is called a prime number (or a prime) if\n",
    " # it is greater than 1 and cannot be written as a product of two natural numbers\n",
    " # that are both smaller than it.\n",
    "\n",
    "# The first 25 prime numbers (all the prime numbers less than 100) are:\n",
    "# 2, 3, 5, 7, 11, 13, 17, 19, 23, 29, 31, 37, 41, 43, 47, 53, 59, 61, 67, 71, 73, 79, 83,\n",
    "# 89, 97\n",
    "\n",
    "rmv = []\n",
    "f = []\n",
    "\n",
    "for i in range(1,200):\n",
    "    for k in range(2, i + 1):\n",
    "        if i%k == 0 and i!= k:\n",
    "            rmv.append(i)\n",
    "        else:\n",
    "            f.append(i)\n",
    "    \n",
    "    f = list(set(f))\n",
    "    rmv = list(set(rmv))\n",
    "\n",
    "primes = []\n",
    "for e in f:\n",
    "    if e not in rmv:\n",
    "        f.append(e)\n",
    "    f = primes\n",
    "    \n",
    "primes.sort()\n",
    "print(primes)"
   ]
  },
  {
   "cell_type": "code",
   "execution_count": 271,
   "id": "d4d728b4",
   "metadata": {},
   "outputs": [
    {
     "name": "stdout",
     "output_type": "stream",
     "text": [
      "['true', 'true', 'true', 'true', 'true', 'true', 'true', 'true', 'true', 'true', 'true', 'true', 'true', 'true', 'true', 'true', 'true', 'true', 'true', 'true', 'true', 'true', 'true', 'true', 'true', 'true', 'true', 'true', 'true', 'true', 'true', 'true', 'true', 'true', 'true', 'true', 'true', 'true', 'true', 'true', 'true', 'true', 'true', 'true', 'true', 'true']\n"
     ]
    }
   ],
   "source": [
    "import sympy\n",
    "\n",
    "primes\n",
    "logicalPrimes = []\n",
    "\n",
    "for element in primes:\n",
    "    if sympy.isprime(element) == True:\n",
    "        logicalPrimes.append('true')\n",
    "\n",
    "print(logicalPrimes)\n",
    "\n"
   ]
  },
  {
   "cell_type": "markdown",
   "id": "eb6efbd1",
   "metadata": {},
   "source": [
    "## Creating Classes in Python"
   ]
  }
 ],
 "metadata": {
  "kernelspec": {
   "display_name": "Python 3",
   "language": "python",
   "name": "python3"
  },
  "language_info": {
   "codemirror_mode": {
    "name": "ipython",
    "version": 3
   },
   "file_extension": ".py",
   "mimetype": "text/x-python",
   "name": "python",
   "nbconvert_exporter": "python",
   "pygments_lexer": "ipython3",
   "version": "3.8.8"
  }
 },
 "nbformat": 4,
 "nbformat_minor": 5
}
